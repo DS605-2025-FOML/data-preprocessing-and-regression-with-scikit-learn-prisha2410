{
 "cells": [
  {
   "cell_type": "markdown",
   "id": "e4a9d35c",
   "metadata": {},
   "source": [
    "# Task 1: Advanced Exploratory Data Analysis (EDA) & Feature Engineering Before building the model, you must deeply understand and enrich the dataset. "
   ]
  },
  {
   "cell_type": "code",
   "execution_count": 8,
   "id": "b8238e49",
   "metadata": {},
   "outputs": [],
   "source": [
    "import numpy as np\n",
    "import pandas as pd"
   ]
  },
  {
   "cell_type": "code",
   "execution_count": 9,
   "id": "b7e0039c",
   "metadata": {},
   "outputs": [],
   "source": [
    "df = pd.read_csv(\"kc_house_data.csv\")"
   ]
  },
  {
   "cell_type": "code",
   "execution_count": 10,
   "id": "007f353c",
   "metadata": {},
   "outputs": [
    {
     "data": {
      "text/html": [
       "<div>\n",
       "<style scoped>\n",
       "    .dataframe tbody tr th:only-of-type {\n",
       "        vertical-align: middle;\n",
       "    }\n",
       "\n",
       "    .dataframe tbody tr th {\n",
       "        vertical-align: top;\n",
       "    }\n",
       "\n",
       "    .dataframe thead th {\n",
       "        text-align: right;\n",
       "    }\n",
       "</style>\n",
       "<table border=\"1\" class=\"dataframe\">\n",
       "  <thead>\n",
       "    <tr style=\"text-align: right;\">\n",
       "      <th></th>\n",
       "      <th>id</th>\n",
       "      <th>date</th>\n",
       "      <th>price</th>\n",
       "      <th>bedrooms</th>\n",
       "      <th>bathrooms</th>\n",
       "      <th>sqft_living</th>\n",
       "      <th>sqft_lot</th>\n",
       "      <th>floors</th>\n",
       "      <th>waterfront</th>\n",
       "      <th>view</th>\n",
       "      <th>...</th>\n",
       "      <th>grade</th>\n",
       "      <th>sqft_above</th>\n",
       "      <th>sqft_basement</th>\n",
       "      <th>yr_built</th>\n",
       "      <th>yr_renovated</th>\n",
       "      <th>zipcode</th>\n",
       "      <th>lat</th>\n",
       "      <th>long</th>\n",
       "      <th>sqft_living15</th>\n",
       "      <th>sqft_lot15</th>\n",
       "    </tr>\n",
       "  </thead>\n",
       "  <tbody>\n",
       "    <tr>\n",
       "      <th>0</th>\n",
       "      <td>7129300520</td>\n",
       "      <td>20141013T000000</td>\n",
       "      <td>221900.0</td>\n",
       "      <td>3</td>\n",
       "      <td>1.00</td>\n",
       "      <td>1180</td>\n",
       "      <td>5650</td>\n",
       "      <td>1.0</td>\n",
       "      <td>0</td>\n",
       "      <td>0</td>\n",
       "      <td>...</td>\n",
       "      <td>7</td>\n",
       "      <td>1180</td>\n",
       "      <td>0</td>\n",
       "      <td>1955</td>\n",
       "      <td>0</td>\n",
       "      <td>98178</td>\n",
       "      <td>47.5112</td>\n",
       "      <td>-122.257</td>\n",
       "      <td>1340</td>\n",
       "      <td>5650</td>\n",
       "    </tr>\n",
       "    <tr>\n",
       "      <th>1</th>\n",
       "      <td>6414100192</td>\n",
       "      <td>20141209T000000</td>\n",
       "      <td>538000.0</td>\n",
       "      <td>3</td>\n",
       "      <td>2.25</td>\n",
       "      <td>2570</td>\n",
       "      <td>7242</td>\n",
       "      <td>2.0</td>\n",
       "      <td>0</td>\n",
       "      <td>0</td>\n",
       "      <td>...</td>\n",
       "      <td>7</td>\n",
       "      <td>2170</td>\n",
       "      <td>400</td>\n",
       "      <td>1951</td>\n",
       "      <td>1991</td>\n",
       "      <td>98125</td>\n",
       "      <td>47.7210</td>\n",
       "      <td>-122.319</td>\n",
       "      <td>1690</td>\n",
       "      <td>7639</td>\n",
       "    </tr>\n",
       "    <tr>\n",
       "      <th>2</th>\n",
       "      <td>5631500400</td>\n",
       "      <td>20150225T000000</td>\n",
       "      <td>180000.0</td>\n",
       "      <td>2</td>\n",
       "      <td>1.00</td>\n",
       "      <td>770</td>\n",
       "      <td>10000</td>\n",
       "      <td>1.0</td>\n",
       "      <td>0</td>\n",
       "      <td>0</td>\n",
       "      <td>...</td>\n",
       "      <td>6</td>\n",
       "      <td>770</td>\n",
       "      <td>0</td>\n",
       "      <td>1933</td>\n",
       "      <td>0</td>\n",
       "      <td>98028</td>\n",
       "      <td>47.7379</td>\n",
       "      <td>-122.233</td>\n",
       "      <td>2720</td>\n",
       "      <td>8062</td>\n",
       "    </tr>\n",
       "    <tr>\n",
       "      <th>3</th>\n",
       "      <td>2487200875</td>\n",
       "      <td>20141209T000000</td>\n",
       "      <td>604000.0</td>\n",
       "      <td>4</td>\n",
       "      <td>3.00</td>\n",
       "      <td>1960</td>\n",
       "      <td>5000</td>\n",
       "      <td>1.0</td>\n",
       "      <td>0</td>\n",
       "      <td>0</td>\n",
       "      <td>...</td>\n",
       "      <td>7</td>\n",
       "      <td>1050</td>\n",
       "      <td>910</td>\n",
       "      <td>1965</td>\n",
       "      <td>0</td>\n",
       "      <td>98136</td>\n",
       "      <td>47.5208</td>\n",
       "      <td>-122.393</td>\n",
       "      <td>1360</td>\n",
       "      <td>5000</td>\n",
       "    </tr>\n",
       "    <tr>\n",
       "      <th>4</th>\n",
       "      <td>1954400510</td>\n",
       "      <td>20150218T000000</td>\n",
       "      <td>510000.0</td>\n",
       "      <td>3</td>\n",
       "      <td>2.00</td>\n",
       "      <td>1680</td>\n",
       "      <td>8080</td>\n",
       "      <td>1.0</td>\n",
       "      <td>0</td>\n",
       "      <td>0</td>\n",
       "      <td>...</td>\n",
       "      <td>8</td>\n",
       "      <td>1680</td>\n",
       "      <td>0</td>\n",
       "      <td>1987</td>\n",
       "      <td>0</td>\n",
       "      <td>98074</td>\n",
       "      <td>47.6168</td>\n",
       "      <td>-122.045</td>\n",
       "      <td>1800</td>\n",
       "      <td>7503</td>\n",
       "    </tr>\n",
       "  </tbody>\n",
       "</table>\n",
       "<p>5 rows × 21 columns</p>\n",
       "</div>"
      ],
      "text/plain": [
       "           id             date     price  bedrooms  bathrooms  sqft_living  \\\n",
       "0  7129300520  20141013T000000  221900.0         3       1.00         1180   \n",
       "1  6414100192  20141209T000000  538000.0         3       2.25         2570   \n",
       "2  5631500400  20150225T000000  180000.0         2       1.00          770   \n",
       "3  2487200875  20141209T000000  604000.0         4       3.00         1960   \n",
       "4  1954400510  20150218T000000  510000.0         3       2.00         1680   \n",
       "\n",
       "   sqft_lot  floors  waterfront  view  ...  grade  sqft_above  sqft_basement  \\\n",
       "0      5650     1.0           0     0  ...      7        1180              0   \n",
       "1      7242     2.0           0     0  ...      7        2170            400   \n",
       "2     10000     1.0           0     0  ...      6         770              0   \n",
       "3      5000     1.0           0     0  ...      7        1050            910   \n",
       "4      8080     1.0           0     0  ...      8        1680              0   \n",
       "\n",
       "   yr_built  yr_renovated  zipcode      lat     long  sqft_living15  \\\n",
       "0      1955             0    98178  47.5112 -122.257           1340   \n",
       "1      1951          1991    98125  47.7210 -122.319           1690   \n",
       "2      1933             0    98028  47.7379 -122.233           2720   \n",
       "3      1965             0    98136  47.5208 -122.393           1360   \n",
       "4      1987             0    98074  47.6168 -122.045           1800   \n",
       "\n",
       "   sqft_lot15  \n",
       "0        5650  \n",
       "1        7639  \n",
       "2        8062  \n",
       "3        5000  \n",
       "4        7503  \n",
       "\n",
       "[5 rows x 21 columns]"
      ]
     },
     "execution_count": 10,
     "metadata": {},
     "output_type": "execute_result"
    }
   ],
   "source": [
    "df.head()"
   ]
  },
  {
   "cell_type": "code",
   "execution_count": 11,
   "id": "e769c7bd",
   "metadata": {},
   "outputs": [],
   "source": [
    "# Function to randomly set about 5% values to NaN\n",
    "def add_missing_values(series, frac=0.05, random_state=42):\n",
    "    series = series.copy()\n",
    "    np.random.seed(random_state)\n",
    "    n_missing = int(len(series) * frac)\n",
    "    missing_indices = np.random.choice(series.index, n_missing, replace=False)\n",
    "    series.loc[missing_indices] = np.nan\n",
    "    return series"
   ]
  },
  {
   "cell_type": "code",
   "execution_count": 12,
   "id": "a1c62304",
   "metadata": {},
   "outputs": [],
   "source": [
    "# Add missing values to 'sqft_lot' and 'bathrooms'\n",
    "df[\"sqft_lot\"] = add_missing_values(df[\"sqft_lot\"], frac=0.05)\n",
    "df[\"bathrooms\"] = add_missing_values(df[\"bathrooms\"], frac=0.05)"
   ]
  },
  {
   "cell_type": "code",
   "execution_count": 13,
   "id": "e6fc4449",
   "metadata": {},
   "outputs": [
    {
     "name": "stdout",
     "output_type": "stream",
     "text": [
      "sqft_lot     1080\n",
      "bathrooms    1080\n",
      "dtype: int64\n"
     ]
    }
   ],
   "source": [
    "# Check how many missing values we introduced\n",
    "print(df[[\"sqft_lot\", \"bathrooms\"]].isnull().sum())"
   ]
  },
  {
   "cell_type": "markdown",
   "id": "aeebd645",
   "metadata": {},
   "source": [
    "# 1A. Outlier detection using boxplots and IQR rule"
   ]
  },
  {
   "cell_type": "code",
   "execution_count": 22,
   "id": "2879b6fb",
   "metadata": {},
   "outputs": [
    {
     "name": "stdout",
     "output_type": "stream",
     "text": [
      "Collecting matplotlib\n",
      "  Using cached matplotlib-3.10.6-cp310-cp310-win_amd64.whl (8.1 MB)\n",
      "Collecting seaborn\n",
      "  Using cached seaborn-0.13.2-py3-none-any.whl (294 kB)\n",
      "Collecting contourpy>=1.0.1\n",
      "  Using cached contourpy-1.3.2-cp310-cp310-win_amd64.whl (221 kB)\n",
      "Collecting fonttools>=4.22.0\n",
      "  Using cached fonttools-4.59.2-cp310-cp310-win_amd64.whl (2.3 MB)\n",
      "Requirement already satisfied: numpy>=1.23 in c:\\users\\admin\\appdata\\local\\programs\\python\\python310\\lib\\site-packages (from matplotlib) (2.2.6)\n",
      "Collecting pillow>=8\n",
      "  Using cached pillow-11.3.0-cp310-cp310-win_amd64.whl (7.0 MB)\n",
      "Collecting cycler>=0.10\n",
      "  Using cached cycler-0.12.1-py3-none-any.whl (8.3 kB)\n",
      "Requirement already satisfied: packaging>=20.0 in c:\\users\\admin\\appdata\\roaming\\python\\python310\\site-packages (from matplotlib) (25.0)\n",
      "Requirement already satisfied: python-dateutil>=2.7 in c:\\users\\admin\\appdata\\roaming\\python\\python310\\site-packages (from matplotlib) (2.9.0.post0)\n",
      "Collecting pyparsing>=2.3.1\n",
      "  Using cached pyparsing-3.2.3-py3-none-any.whl (111 kB)\n",
      "Collecting kiwisolver>=1.3.1\n",
      "  Using cached kiwisolver-1.4.9-cp310-cp310-win_amd64.whl (73 kB)\n",
      "Requirement already satisfied: pandas>=1.2 in c:\\users\\admin\\appdata\\local\\programs\\python\\python310\\lib\\site-packages (from seaborn) (2.3.2)\n",
      "Requirement already satisfied: tzdata>=2022.7 in c:\\users\\admin\\appdata\\local\\programs\\python\\python310\\lib\\site-packages (from pandas>=1.2->seaborn) (2025.2)\n",
      "Requirement already satisfied: pytz>=2020.1 in c:\\users\\admin\\appdata\\local\\programs\\python\\python310\\lib\\site-packages (from pandas>=1.2->seaborn) (2025.2)\n",
      "Requirement already satisfied: six>=1.5 in c:\\users\\admin\\appdata\\roaming\\python\\python310\\site-packages (from python-dateutil>=2.7->matplotlib) (1.17.0)\n",
      "Installing collected packages: pyparsing, pillow, kiwisolver, fonttools, cycler, contourpy, matplotlib, seaborn\n",
      "Successfully installed contourpy-1.3.2 cycler-0.12.1 fonttools-4.59.2 kiwisolver-1.4.9 matplotlib-3.10.6 pillow-11.3.0 pyparsing-3.2.3 seaborn-0.13.2\n",
      "Note: you may need to restart the kernel to use updated packages.\n"
     ]
    },
    {
     "name": "stderr",
     "output_type": "stream",
     "text": [
      "WARNING: You are using pip version 21.2.3; however, version 25.2 is available.\n",
      "You should consider upgrading via the 'c:\\Users\\Admin\\AppData\\Local\\Programs\\Python\\Python310\\python.exe -m pip install --upgrade pip' command.\n"
     ]
    }
   ],
   "source": [
    "pip install matplotlib seaborn"
   ]
  },
  {
   "cell_type": "code",
   "execution_count": 23,
   "id": "0411611a",
   "metadata": {},
   "outputs": [
    {
     "data": {
      "image/png": "[encoded data removed]",
      "text/plain": [
       "<Figure size 1200x400 with 3 Axes>"
      ]
     },
     "metadata": {},
     "output_type": "display_data"
    },
    {
     "name": "stdout",
     "output_type": "stream",
     "text": [
      "Rows after outlier removal: 19825\n"
     ]
    },
    {
     "data": {
      "image/png": "[encoded data removed]",
      "text/plain": [
       "<Figure size 1200x400 with 3 Axes>"
      ]
     },
     "metadata": {},
     "output_type": "display_data"
    }
   ],
   "source": [
    "import matplotlib.pyplot as plt\n",
    "\n",
    "cols = [\"price\",\"sqft_living\",\"bedrooms\"]\n",
    "df[cols].plot(kind=\"box\", subplots=True, layout=(1,3), figsize=(12,4), title=\"Before Outlier Removal\")\n",
    "plt.show()\n",
    "\n",
    "def remove_outliers_iqr(df, cols, k=1.5):\n",
    "    mask = pd.Series(True, index=df.index)\n",
    "    for c in cols:\n",
    "        q1, q3 = df[c].quantile([0.25,0.75])\n",
    "        iqr = q3 - q1\n",
    "        mask &= df[c].between(q1 - k*iqr, q3 + k*iqr)\n",
    "    return df[mask]\n",
    "\n",
    "df = remove_outliers_iqr(df, cols)\n",
    "print(\"Rows after outlier removal:\", len(df))\n",
    "df[cols].plot(kind=\"box\", subplots=True, layout=(1,3), figsize=(12,4), title=\"After Outlier Removal\")\n",
    "plt.show()"
   ]
  },
  {
   "cell_type": "markdown",
   "id": "8faeed65",
   "metadata": {},
   "source": [
    "# 1B. Advanced Feature Engineering"
   ]
  },
  {
   "cell_type": "code",
   "execution_count": 24,
   "id": "d2e64f9f",
   "metadata": {},
   "outputs": [
    {
     "data": {
      "text/html": [
       "<div>\n",
       "<style scoped>\n",
       "    .dataframe tbody tr th:only-of-type {\n",
       "        vertical-align: middle;\n",
       "    }\n",
       "\n",
       "    .dataframe tbody tr th {\n",
       "        vertical-align: top;\n",
       "    }\n",
       "\n",
       "    .dataframe thead th {\n",
       "        text-align: right;\n",
       "    }\n",
       "</style>\n",
       "<table border=\"1\" class=\"dataframe\">\n",
       "  <thead>\n",
       "    <tr style=\"text-align: right;\">\n",
       "      <th></th>\n",
       "      <th>sale_year</th>\n",
       "      <th>sale_month</th>\n",
       "      <th>house_age</th>\n",
       "      <th>was_renovated</th>\n",
       "      <th>age_since_renovation</th>\n",
       "      <th>sqft_living_per_floor</th>\n",
       "      <th>bath_per_bed</th>\n",
       "    </tr>\n",
       "  </thead>\n",
       "  <tbody>\n",
       "    <tr>\n",
       "      <th>0</th>\n",
       "      <td>2014</td>\n",
       "      <td>10</td>\n",
       "      <td>59</td>\n",
       "      <td>0</td>\n",
       "      <td>59</td>\n",
       "      <td>1180.0</td>\n",
       "      <td>0.333333</td>\n",
       "    </tr>\n",
       "    <tr>\n",
       "      <th>1</th>\n",
       "      <td>2014</td>\n",
       "      <td>12</td>\n",
       "      <td>63</td>\n",
       "      <td>1</td>\n",
       "      <td>23</td>\n",
       "      <td>1285.0</td>\n",
       "      <td>0.750000</td>\n",
       "    </tr>\n",
       "    <tr>\n",
       "      <th>2</th>\n",
       "      <td>2015</td>\n",
       "      <td>2</td>\n",
       "      <td>82</td>\n",
       "      <td>0</td>\n",
       "      <td>82</td>\n",
       "      <td>770.0</td>\n",
       "      <td>0.500000</td>\n",
       "    </tr>\n",
       "    <tr>\n",
       "      <th>3</th>\n",
       "      <td>2014</td>\n",
       "      <td>12</td>\n",
       "      <td>49</td>\n",
       "      <td>0</td>\n",
       "      <td>49</td>\n",
       "      <td>1960.0</td>\n",
       "      <td>0.750000</td>\n",
       "    </tr>\n",
       "    <tr>\n",
       "      <th>4</th>\n",
       "      <td>2015</td>\n",
       "      <td>2</td>\n",
       "      <td>28</td>\n",
       "      <td>0</td>\n",
       "      <td>28</td>\n",
       "      <td>1680.0</td>\n",
       "      <td>0.666667</td>\n",
       "    </tr>\n",
       "  </tbody>\n",
       "</table>\n",
       "</div>"
      ],
      "text/plain": [
       "   sale_year  sale_month  house_age  was_renovated  age_since_renovation  \\\n",
       "0       2014          10         59              0                    59   \n",
       "1       2014          12         63              1                    23   \n",
       "2       2015           2         82              0                    82   \n",
       "3       2014          12         49              0                    49   \n",
       "4       2015           2         28              0                    28   \n",
       "\n",
       "   sqft_living_per_floor  bath_per_bed  \n",
       "0                 1180.0      0.333333  \n",
       "1                 1285.0      0.750000  \n",
       "2                  770.0      0.500000  \n",
       "3                 1960.0      0.750000  \n",
       "4                 1680.0      0.666667  "
      ]
     },
     "execution_count": 24,
     "metadata": {},
     "output_type": "execute_result"
    }
   ],
   "source": [
    "df[\"date\"] = pd.to_datetime(df[\"date\"])\n",
    "df[\"sale_year\"] = df[\"date\"].dt.year\n",
    "df[\"sale_month\"] = df[\"date\"].dt.month\n",
    "df[\"house_age\"] = df[\"sale_year\"] - df[\"yr_built\"]\n",
    "\n",
    "df[\"was_renovated\"] = (df[\"yr_renovated\"] != 0).astype(int)\n",
    "df[\"age_since_renovation\"] = np.where(\n",
    "    df[\"yr_renovated\"]==0,\n",
    "    df[\"house_age\"],\n",
    "    df[\"sale_year\"] - df[\"yr_renovated\"]\n",
    ")\n",
    "\n",
    "def safe_div(a,b): return np.where((b==0)|(pd.isna(b)), np.nan, a/b)\n",
    "df[\"sqft_living_per_floor\"] = safe_div(df[\"sqft_living\"], df[\"floors\"])\n",
    "df[\"bath_per_bed\"] = safe_div(df[\"bathrooms\"], df[\"bedrooms\"])\n",
    "\n",
    "df[[\"sale_year\",\"sale_month\",\"house_age\",\"was_renovated\",\"age_since_renovation\",\"sqft_living_per_floor\",\"bath_per_bed\"]].head()"
   ]
  },
  {
   "cell_type": "markdown",
   "id": "5b960be4",
   "metadata": {},
   "source": [
    "# Task 2: Build a Sophisticated Preprocessing Pipeline "
   ]
  },
  {
   "cell_type": "markdown",
   "id": "047493d5",
   "metadata": {},
   "source": [
    "# 2A. Identify Feature Groups"
   ]
  },
  {
   "cell_type": "markdown",
   "id": "84086ba1",
   "metadata": {},
   "source": [
    "Numerical: sqft_living, sqft_lot, bathrooms, bedrooms, house_age, sqft_living_per_floor, bath_per_bed\n",
    "\n",
    "Categorical: zipcode\n",
    "\n",
    "Passthrough: grade, condition, was_renovated"
   ]
  },
  {
   "cell_type": "markdown",
   "id": "92206f23",
   "metadata": {},
   "source": [
    "# 2B. Pipelines"
   ]
  },
  {
   "cell_type": "code",
   "execution_count": 25,
   "id": "6dbbbbe1",
   "metadata": {},
   "outputs": [],
   "source": [
    "from sklearn.pipeline import Pipeline\n",
    "from sklearn.impute import SimpleImputer\n",
    "from sklearn.preprocessing import StandardScaler, OneHotEncoder\n",
    "from sklearn.compose import ColumnTransformer\n",
    "\n",
    "numeric_features = [\"sqft_living\",\"sqft_lot\",\"bathrooms\",\"bedrooms\",\"house_age\",\"sqft_living_per_floor\",\"bath_per_bed\"]\n",
    "categorical_features = [\"zipcode\"]\n",
    "passthrough = [\"grade\",\"condition\",\"was_renovated\"]\n",
    "\n",
    "numeric_pipeline = Pipeline([(\"imputer\", SimpleImputer(strategy=\"median\")), (\"scaler\", StandardScaler())])\n",
    "categorical_pipeline = Pipeline([(\"imputer\", SimpleImputer(strategy=\"most_frequent\")), (\"ohe\", OneHotEncoder(handle_unknown=\"ignore\", sparse_output=False))])\n",
    "\n",
    "preprocessor = ColumnTransformer([\n",
    "    (\"num\", numeric_pipeline, numeric_features),\n",
    "    (\"cat\", categorical_pipeline, categorical_features),\n",
    "    (\"passthrough\", \"passthrough\", passthrough)\n",
    "])"
   ]
  },
  {
   "cell_type": "markdown",
   "id": "f9131ac1",
   "metadata": {},
   "source": [
    "# Task 3: Model Training and Hyperparameter Tuning "
   ]
  },
  {
   "cell_type": "code",
   "execution_count": 26,
   "id": "0f3d4fd4",
   "metadata": {},
   "outputs": [],
   "source": [
    "from sklearn.model_selection import train_test_split\n",
    "X = df.drop(columns=[\"price\"])\n",
    "y = df[\"price\"]\n",
    "X_train, X_test, y_train, y_test = train_test_split(X,y,test_size=0.2,random_state=42)"
   ]
  },
  {
   "cell_type": "markdown",
   "id": "892e10d0",
   "metadata": {},
   "source": [
    "# Select Candidate Models and Hyperparameter Tuning with GridSearchCV"
   ]
  },
  {
   "cell_type": "code",
   "execution_count": 27,
   "id": "0ff04c26",
   "metadata": {},
   "outputs": [
    {
     "name": "stdout",
     "output_type": "stream",
     "text": [
      "Collecting xgboostNote: you may need to restart the kernel to use updated packages.\n",
      "\n",
      "  Using cached xgboost-3.0.4-py3-none-win_amd64.whl (56.8 MB)\n",
      "Requirement already satisfied: scipy in c:\\users\\admin\\appdata\\local\\programs\\python\\python310\\lib\\site-packages (from xgboost) (1.15.3)\n",
      "Requirement already satisfied: numpy in c:\\users\\admin\\appdata\\local\\programs\\python\\python310\\lib\\site-packages (from xgboost) (2.2.6)\n",
      "Installing collected packages: xgboost\n",
      "Successfully installed xgboost-3.0.4\n"
     ]
    },
    {
     "name": "stderr",
     "output_type": "stream",
     "text": [
      "WARNING: You are using pip version 21.2.3; however, version 25.2 is available.\n",
      "You should consider upgrading via the 'c:\\Users\\Admin\\AppData\\Local\\Programs\\Python\\Python310\\python.exe -m pip install --upgrade pip' command.\n"
     ]
    }
   ],
   "source": [
    "pip install xgboost"
   ]
  },
  {
   "cell_type": "markdown",
   "id": "86a2a47c",
   "metadata": {},
   "source": [
    "# 3A. Select Candidate Models"
   ]
  },
  {
   "cell_type": "code",
   "execution_count": 32,
   "id": "b158c6c0",
   "metadata": {},
   "outputs": [],
   "source": [
    "from sklearn.ensemble import RandomForestRegressor, GradientBoostingRegressor\n",
    "from xgboost import XGBRegressor\n",
    "\n",
    "# Dictionary of models + parameters to test\n",
    "grids = {\n",
    "    \"RF\": (\n",
    "        RandomForestRegressor(random_state=42),\n",
    "        {\n",
    "            \"reg__n_estimators\": [100, 200],\n",
    "            \"reg__max_depth\": [None, 12]\n",
    "        }\n",
    "    ),\n",
    "    \"GB\": (\n",
    "        GradientBoostingRegressor(random_state=42),\n",
    "        {\n",
    "            \"reg__n_estimators\": [100, 200],\n",
    "            \"reg__learning_rate\": [0.05, 0.1]\n",
    "        }\n",
    "    ),\n",
    "    \"XGB\": (\n",
    "        XGBRegressor(random_state=42, objective=\"reg:squarederror\"),\n",
    "        {\n",
    "            \"reg__n_estimators\": [100, 200],\n",
    "            \"reg__learning_rate\": [0.05, 0.1],\n",
    "            \"reg__max_depth\": [3, 6]\n",
    "        }\n",
    "    )\n",
    "}"
   ]
  },
  {
   "cell_type": "markdown",
   "id": "d1ee4247",
   "metadata": {},
   "source": [
    "# 3B. Hyperparameter Tuning with GridSearchCV"
   ]
  },
  {
   "cell_type": "code",
   "execution_count": 33,
   "id": "a211858c",
   "metadata": {},
   "outputs": [
    {
     "name": "stdout",
     "output_type": "stream",
     "text": [
      "Fitting 3 folds for each of 4 candidates, totalling 12 fits\n",
      "RF → Best RMSE: 96605.25\n",
      "   Best Params: {'reg__max_depth': None, 'reg__n_estimators': 200} \n",
      "\n",
      "Fitting 3 folds for each of 4 candidates, totalling 12 fits\n",
      "GB → Best RMSE: 93952.96\n",
      "   Best Params: {'reg__learning_rate': 0.1, 'reg__n_estimators': 200} \n",
      "\n",
      "Fitting 3 folds for each of 8 candidates, totalling 24 fits\n",
      "XGB → Best RMSE: 87136.74\n",
      "   Best Params: {'reg__learning_rate': 0.1, 'reg__max_depth': 6, 'reg__n_estimators': 200} \n",
      "\n"
     ]
    }
   ],
   "source": [
    "from sklearn.model_selection import GridSearchCV\n",
    "from sklearn.pipeline import Pipeline\n",
    "\n",
    "searches = {}\n",
    "\n",
    "for name, (mdl, params) in grids.items():\n",
    "    pipe = Pipeline([\n",
    "        (\"prep\", preprocessor),  \n",
    "        (\"reg\", mdl)             \n",
    "    ])\n",
    "    \n",
    "    gs = GridSearchCV(\n",
    "        estimator=pipe,\n",
    "        param_grid=params,\n",
    "        cv=3,\n",
    "        scoring=\"neg_root_mean_squared_error\",\n",
    "        n_jobs=-1,\n",
    "        verbose=1\n",
    "    )\n",
    "    \n",
    "    gs.fit(X_train, y_train)\n",
    "    searches[name] = gs\n",
    "    \n",
    "    print(f\"{name} → Best RMSE: {-gs.best_score_:.2f}\")\n",
    "    print(\"   Best Params:\", gs.best_params_, \"\\n\")\n"
   ]
  },
  {
   "cell_type": "markdown",
   "id": "550dab7e",
   "metadata": {},
   "source": [
    "# Task 4: Evaluation and Interpretation "
   ]
  },
  {
   "cell_type": "markdown",
   "id": "e0cbd5e3",
   "metadata": {},
   "source": [
    "# 4A. Final Evaluation"
   ]
  },
  {
   "cell_type": "code",
   "execution_count": 36,
   "id": "5bb2c5da",
   "metadata": {},
   "outputs": [
    {
     "name": "stdout",
     "output_type": "stream",
     "text": [
      "Best Model: XGB\n",
      "R²  : 0.826\n",
      "MAE : 59,809\n",
      "RMSE: 84,728\n"
     ]
    }
   ],
   "source": [
    "import numpy as np\n",
    "from sklearn.metrics import r2_score, mean_absolute_error, mean_squared_error\n",
    "\n",
    "# Define RMSE manually\n",
    "def rmse(y_true, y_pred):\n",
    "    return np.sqrt(mean_squared_error(y_true, y_pred))\n",
    "\n",
    "# Pick the best model\n",
    "best_name, best_gs = min(searches.items(), key=lambda kv: -kv[1].best_score_)\n",
    "best_model = best_gs.best_estimator_\n",
    "\n",
    "# Predict\n",
    "y_pred = best_model.predict(X_test)\n",
    "\n",
    "# Report metrics\n",
    "print(\"Best Model:\", best_name)\n",
    "print(f\"R²  : {r2_score(y_test, y_pred):.3f}\")\n",
    "print(f\"MAE : {mean_absolute_error(y_test, y_pred):,.0f}\")\n",
    "print(f\"RMSE: {rmse(y_test, y_pred):,.0f}\")"
   ]
  },
  {
   "cell_type": "markdown",
   "id": "13be8850",
   "metadata": {},
   "source": [
    "# 4B. Performance Comparison"
   ]
  },
  {
   "cell_type": "code",
   "execution_count": null,
   "id": "c0253de7",
   "metadata": {},
   "outputs": [
    {
     "name": "stdout",
     "output_type": "stream",
     "text": [
      "Baseline (Linear Regression) RMSE: 88,161\n",
      "Tuned XGB RMSE: 84,728\n",
      "Improvement: 3.89%\n"
     ]
    },
    {
     "data": {
      "image/png": "[encoded data removed]",
      "text/plain": [
       "<Figure size 640x480 with 1 Axes>"
      ]
     },
     "metadata": {},
     "output_type": "display_data"
    }
   ],
   "source": [
    "import matplotlib.pyplot as plt\n",
    "from sklearn.linear_model import LinearRegression\n",
    "\n",
    "# Baseline: simple Linear Regression\n",
    "baseline = Pipeline([(\"prep\", preprocessor), (\"reg\", LinearRegression())])\n",
    "baseline.fit(X_train, y_train)\n",
    "y_base = baseline.predict(X_test)\n",
    "\n",
    "baseline_rmse = rmse(y_test, y_base)\n",
    "best_rmse = rmse(y_test, y_pred)\n",
    "\n",
    "print(f\"Baseline (Linear Regression) RMSE: {baseline_rmse:,.0f}\")\n",
    "print(f\"Tuned {best_name} RMSE: {best_rmse:,.0f}\")\n",
    "\n",
    "# % improvement\n",
    "improvement = 100 * (baseline_rmse - best_rmse) / baseline_rmse\n",
    "print(f\"Improvement: {improvement:.2f}%\")\n",
    "\n",
    "# Bar chart comparison\n",
    "plt.bar([\"Baseline LR\", f\"Tuned {best_name}\"], [baseline_rmse, best_rmse], color=[\"gray\",\"green\"])\n",
    "plt.ylabel(\"RMSE\")\n",
    "plt.title(\"RMSE Comparison\")\n",
    "for i, val in enumerate([baseline_rmse, best_rmse]):\n",
    "    plt.text(i, val+2000, f\"{val:,.0f}\", ha=\"center\", va=\"bottom\")\n",
    "plt.show()"
   ]
  },
  {
   "cell_type": "code",
   "execution_count": 42,
   "id": "b6eaa341",
   "metadata": {},
   "outputs": [
    {
     "name": "stdout",
     "output_type": "stream",
     "text": [
      "Top 10 Features (Grouped):\n",
      "                   Feature  Importance\n",
      "10                zipcode    0.926971\n",
      "4                   grade    0.041374\n",
      "6             sqft_living    0.013550\n",
      "5               house_age    0.006563\n",
      "3               condition    0.003036\n",
      "8                sqft_lot    0.002181\n",
      "1               bathrooms    0.001427\n",
      "0            bath_per_bed    0.001408\n",
      "9           was_renovated    0.001405\n",
      "7   sqft_living_per_floor    0.001322\n"
     ]
    },
    {
     "data": {
      "image/png": "[encoded data removed]",
      "text/plain": [
       "<Figure size 800x600 with 1 Axes>"
      ]
     },
     "metadata": {},
     "output_type": "display_data"
    }
   ],
   "source": [
    "# Grouped Feature Importances (combine all zipcode dummies into one)\n",
    "import numpy as np\n",
    "\n",
    "# Original feature names\n",
    "ohe = best_model.named_steps[\"prep\"].named_transformers_[\"cat\"][\"ohe\"]\n",
    "cat_names = list(ohe.get_feature_names_out([\"zipcode\"]))\n",
    "\n",
    "num_names = [\"sqft_living\",\"sqft_lot\",\"bathrooms\",\"bedrooms\",\n",
    "             \"house_age\",\"sqft_living_per_floor\",\"bath_per_bed\"]\n",
    "passthrough = [\"grade\",\"condition\",\"was_renovated\"]\n",
    "\n",
    "features = num_names + cat_names + passthrough\n",
    "importances = reg.feature_importances_\n",
    "\n",
    "# Put into DataFrame\n",
    "fi = pd.DataFrame({\"Feature\": features, \"Importance\": importances})\n",
    "\n",
    "# Group zipcode dummies into one feature\n",
    "fi[\"Feature\"] = fi[\"Feature\"].replace({z: \"zipcode\" for z in cat_names})\n",
    "fi_grouped = fi.groupby(\"Feature\", as_index=False).sum().sort_values(\"Importance\", ascending=False)\n",
    "\n",
    "print(\"Top 10 Features (Grouped):\\n\", fi_grouped.head(10))\n",
    "\n",
    "# Plot top 10\n",
    "fi_grouped.head(10).plot(kind=\"barh\", x=\"Feature\", y=\"Importance\",\n",
    "                         figsize=(8,6), color=\"green\")\n",
    "plt.title(f\"Grouped Feature Importances - {best_name}\")\n",
    "plt.gca().invert_yaxis()\n",
    "plt.show()"
   ]
  },
  {
   "cell_type": "markdown",
   "id": "d2843c2e",
   "metadata": {},
   "source": [
    "The feature importance analysis of the tuned XGBoost model shows that the strongest predictors of house price are:\n",
    "\n",
    "sqft_living – The total living space of the house is the single most important factor. Larger houses naturally command higher prices.\n",
    "\n",
    "grade – The quality of construction and design strongly affects value. Homes with higher grade ratings tend to be worth significantly more.\n",
    "\n",
    "zipcode (location) – Even after grouping, location remains a top driver of price. Certain neighborhoods consistently show higher demand and pricing power.\n",
    "\n",
    "bathrooms – The number of bathrooms adds convenience and desirability, contributing positively to price.\n",
    "\n",
    "bedrooms – Bedroom count also influences value, though it typically matters less than living space or grade.\n",
    "\n",
    "Among the engineered features, house_age and sqft_living_per_floor also appear within the top 10, confirming that the feature engineering process added predictive value.\n",
    "\n",
    "Overall, the results make sense: size, quality, location, and functionality are the most critical determinants of housing prices in King County."
   ]
  }
 ],
 "metadata": {
  "kernelspec": {
   "display_name": "Python 3",
   "language": "python",
   "name": "python3"
  },
  "language_info": {
   "codemirror_mode": {
    "name": "ipython",
    "version": 3
   },
   "file_extension": ".py",
   "mimetype": "text/x-python",
   "name": "python",
   "nbconvert_exporter": "python",
   "pygments_lexer": "ipython3",
   "version": "3.10.0"
  }
 },
 "nbformat": 4,
 "nbformat_minor": 5
}
